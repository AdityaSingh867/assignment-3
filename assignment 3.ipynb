{
 "cells": [
  {
   "cell_type": "markdown",
   "id": "e44d7b1a-355d-4186-9487-e048b67457f5",
   "metadata": {},
   "source": [
    "Q1. Create a python program to sort the given list of tuples based on integer value using a\n",
    "lambda function ?"
   ]
  },
  {
   "cell_type": "markdown",
   "id": "da560550-08af-48bb-bb27-bf4d75ccfd77",
   "metadata": {},
   "source": [
    "Ans 1 ---"
   ]
  },
  {
   "cell_type": "code",
   "execution_count": 2,
   "id": "833b425a-157b-428a-a0bf-e60351f537f8",
   "metadata": {},
   "outputs": [],
   "source": [
    "a = [('Sachin Tendulkar', 34357), ('Ricky Ponting', 27483), ('Jack Kallis', 25534), ('Virat Kohli', 24936)]"
   ]
  },
  {
   "cell_type": "code",
   "execution_count": 5,
   "id": "6445d423-c435-4ec5-ace3-19a352382019",
   "metadata": {},
   "outputs": [
    {
     "data": {
      "text/plain": [
       "<function __main__.<lambda>(s)>"
      ]
     },
     "execution_count": 5,
     "metadata": {},
     "output_type": "execute_result"
    }
   ],
   "source": [
    "lambda s : list(s)"
   ]
  },
  {
   "cell_type": "code",
   "execution_count": 7,
   "id": "f9d1dcec-4b10-4b2e-875a-3ece6e596a14",
   "metadata": {},
   "outputs": [],
   "source": [
    "aditya = lambda s : list(s)"
   ]
  },
  {
   "cell_type": "code",
   "execution_count": 8,
   "id": "429c85fb-7ae1-4a49-8551-fabd5f6c201e",
   "metadata": {},
   "outputs": [
    {
     "data": {
      "text/plain": [
       "[('Sachin Tendulkar', 34357),\n",
       " ('Ricky Ponting', 27483),\n",
       " ('Jack Kallis', 25534),\n",
       " ('Virat Kohli', 24936)]"
      ]
     },
     "execution_count": 8,
     "metadata": {},
     "output_type": "execute_result"
    }
   ],
   "source": [
    "aditya(a)"
   ]
  },
  {
   "cell_type": "markdown",
   "id": "f197218b-9a13-4300-bc3e-08c5069ec864",
   "metadata": {},
   "source": [
    "Q2. Write a Python Program to find the squares of all the numbers in the given list of integers using\n",
    "lambda and map functions ?\n",
    "[1, 2, 3, 4, 5, 6, 7, 8, 9, 10]"
   ]
  },
  {
   "cell_type": "markdown",
   "id": "ba837863-4973-4bd9-b01d-47f09ce0836c",
   "metadata": {},
   "source": [
    "Ans 2 --"
   ]
  },
  {
   "cell_type": "code",
   "execution_count": 9,
   "id": "5d52eff1-46be-41fe-841a-8326f0452011",
   "metadata": {},
   "outputs": [],
   "source": [
    "d = [1,2,3,4,5,6,7,8,9,10]"
   ]
  },
  {
   "cell_type": "code",
   "execution_count": 11,
   "id": "3b4b943b-c26b-452e-9c98-881a62b947f5",
   "metadata": {},
   "outputs": [
    {
     "data": {
      "text/plain": [
       "<map at 0x7ff63c6acc70>"
      ]
     },
     "execution_count": 11,
     "metadata": {},
     "output_type": "execute_result"
    }
   ],
   "source": [
    "map(lambda a : a**2 , d)"
   ]
  },
  {
   "cell_type": "code",
   "execution_count": 12,
   "id": "23c25aa6-6f37-4b9c-92fc-50ec4a42395e",
   "metadata": {},
   "outputs": [
    {
     "data": {
      "text/plain": [
       "[1, 4, 9, 16, 25, 36, 49, 64, 81, 100]"
      ]
     },
     "execution_count": 12,
     "metadata": {},
     "output_type": "execute_result"
    }
   ],
   "source": [
    "list(map(lambda a : a**2 , d))"
   ]
  },
  {
   "cell_type": "markdown",
   "id": "9fd16947-5605-4f98-986d-1260c1c549ac",
   "metadata": {},
   "source": [
    "Q3. Write a python program to convert the given list of integers into a tuple of strings. Use map and\n",
    "lambda functions\n",
    "Given String: [1, 2, 3, 4, 5, 6, 7, 8, 9, 10]\n",
    "Expected output: ('1', '2', '3', '4', '5', '6', '7', '8', '9', '10')"
   ]
  },
  {
   "cell_type": "markdown",
   "id": "34fe018e-217c-4af3-a149-8bce57e741ca",
   "metadata": {},
   "source": [
    "Ans 3 -- "
   ]
  },
  {
   "cell_type": "code",
   "execution_count": 14,
   "id": "6f127d0b-ede0-45d4-8711-eec6f2ec7bc5",
   "metadata": {},
   "outputs": [],
   "source": [
    "f = [1,2,3,4,5,6,7,8,9,10]"
   ]
  },
  {
   "cell_type": "code",
   "execution_count": 45,
   "id": "bede8e7b-9b9a-43af-91dd-585a58fa6cca",
   "metadata": {},
   "outputs": [
    {
     "data": {
      "text/plain": [
       "('1', '2', '3', '4', '5', '6', '7', '8', '9', '10')"
      ]
     },
     "execution_count": 45,
     "metadata": {},
     "output_type": "execute_result"
    }
   ],
   "source": [
    "tuple(map(lambda l : str(l) , f))"
   ]
  },
  {
   "cell_type": "markdown",
   "id": "f8fa13a4-bf7b-4514-bb8f-973e749b6fe3",
   "metadata": {},
   "source": [
    "Q4. Write a python program using reduce function to compute the product of a list containing numbers\n",
    "from 1 to 25 ?"
   ]
  },
  {
   "cell_type": "code",
   "execution_count": 54,
   "id": "7dc83fdc-616f-43aa-b63e-27acda226749",
   "metadata": {},
   "outputs": [],
   "source": [
    "from functools import reduce"
   ]
  },
  {
   "cell_type": "code",
   "execution_count": 55,
   "id": "4901ba3d-c182-45da-9013-95fe1144d3ad",
   "metadata": {},
   "outputs": [],
   "source": [
    "a = range(1 , 26)"
   ]
  },
  {
   "cell_type": "code",
   "execution_count": 56,
   "id": "32000537-c4f2-4c6d-98f2-511c8043fffa",
   "metadata": {},
   "outputs": [],
   "source": [
    "xyz = list(a )"
   ]
  },
  {
   "cell_type": "code",
   "execution_count": 57,
   "id": "ca10a4ce-6de3-4e6b-993e-574575ebb157",
   "metadata": {},
   "outputs": [
    {
     "data": {
      "text/plain": [
       "325"
      ]
     },
     "execution_count": 57,
     "metadata": {},
     "output_type": "execute_result"
    }
   ],
   "source": [
    "reduce(lambda j , g : j + g , xyz)"
   ]
  },
  {
   "cell_type": "markdown",
   "id": "e2a85f5d-314f-4411-a371-1126acb2ea54",
   "metadata": {},
   "source": [
    "Q5. Write a python program to filter the numbers in a given list that are divisible by 2 and 3 using the\n",
    "filter function ?\n",
    "[2, 3, 6, 9, 27, 60, 90, 120, 55, 46]"
   ]
  },
  {
   "cell_type": "markdown",
   "id": "e1d1c01d-aa8e-4828-a0b3-170f0c459fa6",
   "metadata": {},
   "source": [
    "Ans 5 ---"
   ]
  },
  {
   "cell_type": "code",
   "execution_count": 60,
   "id": "46c295b8-efaf-4b0f-8620-de53f9a91a2f",
   "metadata": {},
   "outputs": [],
   "source": [
    "ab = [2,3,6,9,27,60,90,120,55,46]"
   ]
  },
  {
   "cell_type": "code",
   "execution_count": 90,
   "id": "b61ae166-6b44-4412-9da8-825d94bec293",
   "metadata": {},
   "outputs": [],
   "source": [
    "aditya = list(filter(lambda d: d%2 == 0, ab ))"
   ]
  },
  {
   "cell_type": "code",
   "execution_count": 91,
   "id": "5f0f3782-e66a-44ab-85af-ed139315dc16",
   "metadata": {},
   "outputs": [],
   "source": [
    "aditya1= list(filter(lambda d: d%3 == 0, ab ))"
   ]
  },
  {
   "cell_type": "code",
   "execution_count": 92,
   "id": "8a3226b3-879b-4f64-b0b3-23b902f0033e",
   "metadata": {},
   "outputs": [
    {
     "data": {
      "text/plain": [
       "[2, 6, 60, 90, 120, 46, 3, 6, 9, 27, 60, 90, 120]"
      ]
     },
     "execution_count": 92,
     "metadata": {},
     "output_type": "execute_result"
    }
   ],
   "source": [
    "aditya + aditya1"
   ]
  },
  {
   "cell_type": "markdown",
   "id": "e6b28b07-6264-4c2b-bac4-ca981d51e7b5",
   "metadata": {},
   "source": [
    "Q6. Write a python program to find palindromes in the given list of strings using lambda and filter\n",
    "function ?\n",
    "['python', 'php', 'aba', 'radar', 'level']"
   ]
  },
  {
   "cell_type": "markdown",
   "id": "541307e2-994b-4e4f-827f-109a5088dcb6",
   "metadata": {},
   "source": [
    "Ans 6 ---"
   ]
  },
  {
   "cell_type": "code",
   "execution_count": 95,
   "id": "a0ec5d5b-3baf-43b2-8ce6-7dcbc4cac3f9",
   "metadata": {},
   "outputs": [],
   "source": [
    "r = ['python', 'php', 'aba', 'radar', 'level']"
   ]
  },
  {
   "cell_type": "code",
   "execution_count": 97,
   "id": "a60b811b-31b1-4b56-9fb7-6a274b4302ee",
   "metadata": {},
   "outputs": [
    {
     "data": {
      "text/plain": [
       "['python', 'php', 'aba', 'radar', 'level']"
      ]
     },
     "execution_count": 97,
     "metadata": {},
     "output_type": "execute_result"
    }
   ],
   "source": [
    "list(filter(lambda g : g[::-1] , r ))"
   ]
  },
  {
   "cell_type": "code",
   "execution_count": null,
   "id": "1224fbe9-ad9d-423f-b1e0-0b0922cea9d2",
   "metadata": {},
   "outputs": [],
   "source": []
  }
 ],
 "metadata": {
  "kernelspec": {
   "display_name": "Python 3 (ipykernel)",
   "language": "python",
   "name": "python3"
  },
  "language_info": {
   "codemirror_mode": {
    "name": "ipython",
    "version": 3
   },
   "file_extension": ".py",
   "mimetype": "text/x-python",
   "name": "python",
   "nbconvert_exporter": "python",
   "pygments_lexer": "ipython3",
   "version": "3.10.8"
  }
 },
 "nbformat": 4,
 "nbformat_minor": 5
}
